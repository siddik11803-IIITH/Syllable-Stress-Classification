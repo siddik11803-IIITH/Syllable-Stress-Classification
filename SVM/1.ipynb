{
 "cells": [
  {
   "cell_type": "code",
   "execution_count": 5,
   "metadata": {},
   "outputs": [],
   "source": [
    "from sklearn.svm import SVC\n",
    "import pickle as pkl\n",
    "import numpy as np\n",
    "from sklearn.metrics import accuracy_score"
   ]
  },
  {
   "cell_type": "code",
   "execution_count": 6,
   "metadata": {},
   "outputs": [],
   "source": [
    "def normalize(matrix):\n",
    "    norm = np.linalg.norm(matrix)\n",
    "    matrix = matrix/norm\n",
    "    return matrix\n"
   ]
  },
  {
   "cell_type": "code",
   "execution_count": 7,
   "metadata": {},
   "outputs": [],
   "source": [
    "x_test = normalize(pkl.load(open('../code/GER_test.pkl' ,'rb')))\n",
    "y_test = (pkl.load(open('../code/GER_test_y.pkl', 'rb')))\n",
    "x_train = normalize(pkl.load(open('../code/GER_train.pkl', 'rb')))\n",
    "y_train = (pkl.load(open('../code/GER_train_y.pkl', 'rb')))"
   ]
  },
  {
   "cell_type": "code",
   "execution_count": 8,
   "metadata": {},
   "outputs": [
    {
     "name": "stdout",
     "output_type": "stream",
     "text": [
      "0.8047375160051217\n",
      "0.7974502220312276\n"
     ]
    }
   ],
   "source": [
    "svm = SVC(kernel = 'poly', gamma='scale')\n",
    "svm.fit(x_train, y_train)\n",
    "predcitions = svm.predict(x_test)\n",
    "print(accuracy_score(predcitions, y_test))\n",
    "predcitions = svm.predict(x_train)\n",
    "print(accuracy_score(predcitions, y_train))"
   ]
  },
  {
   "cell_type": "code",
   "execution_count": null,
   "metadata": {},
   "outputs": [],
   "source": []
  }
 ],
 "metadata": {
  "kernelspec": {
   "display_name": "Python 3.9.13 64-bit",
   "language": "python",
   "name": "python3"
  },
  "language_info": {
   "codemirror_mode": {
    "name": "ipython",
    "version": 3
   },
   "file_extension": ".py",
   "mimetype": "text/x-python",
   "name": "python",
   "nbconvert_exporter": "python",
   "pygments_lexer": "ipython3",
   "version": "3.10.6"
  },
  "orig_nbformat": 4,
  "vscode": {
   "interpreter": {
    "hash": "aee8b7b246df8f9039afb4144a1f6fd8d2ca17a180786b69acc140d282b71a49"
   }
  }
 },
 "nbformat": 4,
 "nbformat_minor": 2
}
