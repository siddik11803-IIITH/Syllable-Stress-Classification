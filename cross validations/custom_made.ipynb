{
 "cells": [
  {
   "cell_type": "code",
   "execution_count": 16,
   "metadata": {},
   "outputs": [],
   "source": [
    "import tensorflow as tf\n",
    "from tensorflow.keras.datasets import mnist\n",
    "import numpy as np\n",
    "import pandas as pd\n",
    "import pickle as pkl\n",
    "import matplotlib.pyplot as plot"
   ]
  },
  {
   "cell_type": "code",
   "execution_count": 17,
   "metadata": {},
   "outputs": [],
   "source": [
    "model = tf.keras.models.Sequential()\n",
    "model.add(tf.keras.layers.Flatten(input_shape = [19]))\n",
    "model.add(tf.keras.layers.Dense(16, activation='relu'))\n",
    "model.add(tf.keras.layers.Dense(8, activation='relu'))\n",
    "model.add(tf.keras.layers.Dense(4, activation='relu'))\n",
    "model.add(tf.keras.layers.Dense(2, activation=tf.nn.softmax))\n",
    "model.compile(optimizer=tf.keras.optimizers.Adam(), loss = 'sparse_categorical_crossentropy', metrics=['accuracy'])"
   ]
  },
  {
   "cell_type": "code",
   "execution_count": 18,
   "metadata": {},
   "outputs": [],
   "source": [
    "new_sets = pkl.load(open('./c_validation.pkl', 'rb'))\n",
    "x_test = pkl.load(open('../code/GER_test.pkl' ,'rb'))\n",
    "y_test = pkl.load(open('../code/GER_test_y.pkl', 'rb'))\n",
    "x_train = pkl.load(open('../code/GER_train.pkl', 'rb'))\n",
    "y_train = pkl.load(open('../code/GER_train_y.pkl', 'rb'))"
   ]
  },
  {
   "cell_type": "code",
   "execution_count": 19,
   "metadata": {},
   "outputs": [
    {
     "ename": "ValueError",
     "evalue": "The truth value of an array with more than one element is ambiguous. Use a.any() or a.all()",
     "output_type": "error",
     "traceback": [
      "\u001b[0;31m---------------------------------------------------------------------------\u001b[0m",
      "\u001b[0;31mValueError\u001b[0m                                Traceback (most recent call last)",
      "\u001b[1;32m/Users/siddikayyappa/IIITH/honours/forensic_linguistics/Project - 1/Dataset Contrastive Learning 070822/dataset_repo/cross validations/custom_made.ipynb Cell 4\u001b[0m in \u001b[0;36m<cell line: 1>\u001b[0;34m()\u001b[0m\n\u001b[1;32m      <a href='vscode-notebook-cell:/Users/siddikayyappa/IIITH/honours/forensic_linguistics/Project%20-%201/Dataset%20Contrastive%20Learning%20070822/dataset_repo/cross%20validations/custom_made.ipynb#W3sZmlsZQ%3D%3D?line=1'>2</a>\u001b[0m temp_model \u001b[39m=\u001b[39m tf\u001b[39m.\u001b[39mkeras\u001b[39m.\u001b[39mmodels\u001b[39m.\u001b[39mclone_model(model)\n\u001b[1;32m      <a href='vscode-notebook-cell:/Users/siddikayyappa/IIITH/honours/forensic_linguistics/Project%20-%201/Dataset%20Contrastive%20Learning%20070822/dataset_repo/cross%20validations/custom_made.ipynb#W3sZmlsZQ%3D%3D?line=2'>3</a>\u001b[0m temp_model\u001b[39m.\u001b[39mcompile(optimizer\u001b[39m=\u001b[39mtf\u001b[39m.\u001b[39mkeras\u001b[39m.\u001b[39moptimizers\u001b[39m.\u001b[39mAdam(), loss \u001b[39m=\u001b[39m \u001b[39m'\u001b[39m\u001b[39msparse_categorical_crossentropy\u001b[39m\u001b[39m'\u001b[39m, metrics\u001b[39m=\u001b[39m[\u001b[39m'\u001b[39m\u001b[39maccuracy\u001b[39m\u001b[39m'\u001b[39m])\n\u001b[0;32m----> <a href='vscode-notebook-cell:/Users/siddikayyappa/IIITH/honours/forensic_linguistics/Project%20-%201/Dataset%20Contrastive%20Learning%20070822/dataset_repo/cross%20validations/custom_made.ipynb#W3sZmlsZQ%3D%3D?line=3'>4</a>\u001b[0m temp_model\u001b[39m.\u001b[39mfit(x\u001b[39m=\u001b[39mnew_sets[i][\u001b[39m'\u001b[39m\u001b[39mtraining\u001b[39m\u001b[39m'\u001b[39m], y \u001b[39m=\u001b[39m new_sets[i][\u001b[39m'\u001b[39m\u001b[39mlabels\u001b[39m\u001b[39m'\u001b[39m], validation_data\u001b[39m=\u001b[39mnew_sets[i][\u001b[39m'\u001b[39m\u001b[39mvalidation\u001b[39m\u001b[39m'\u001b[39m])\n\u001b[1;32m      <a href='vscode-notebook-cell:/Users/siddikayyappa/IIITH/honours/forensic_linguistics/Project%20-%201/Dataset%20Contrastive%20Learning%20070822/dataset_repo/cross%20validations/custom_made.ipynb#W3sZmlsZQ%3D%3D?line=4'>5</a>\u001b[0m temp_model\u001b[39m.\u001b[39mevaluate(x_train, y_train)\n\u001b[1;32m      <a href='vscode-notebook-cell:/Users/siddikayyappa/IIITH/honours/forensic_linguistics/Project%20-%201/Dataset%20Contrastive%20Learning%20070822/dataset_repo/cross%20validations/custom_made.ipynb#W3sZmlsZQ%3D%3D?line=5'>6</a>\u001b[0m temp_model\u001b[39m.\u001b[39mevaluate(x_test, y_test)\n",
      "File \u001b[0;32m/usr/local/lib/python3.9/site-packages/keras/utils/traceback_utils.py:67\u001b[0m, in \u001b[0;36mfilter_traceback.<locals>.error_handler\u001b[0;34m(*args, **kwargs)\u001b[0m\n\u001b[1;32m     65\u001b[0m \u001b[39mexcept\u001b[39;00m \u001b[39mException\u001b[39;00m \u001b[39mas\u001b[39;00m e:  \u001b[39m# pylint: disable=broad-except\u001b[39;00m\n\u001b[1;32m     66\u001b[0m   filtered_tb \u001b[39m=\u001b[39m _process_traceback_frames(e\u001b[39m.\u001b[39m__traceback__)\n\u001b[0;32m---> 67\u001b[0m   \u001b[39mraise\u001b[39;00m e\u001b[39m.\u001b[39mwith_traceback(filtered_tb) \u001b[39mfrom\u001b[39;00m \u001b[39mNone\u001b[39m\n\u001b[1;32m     68\u001b[0m \u001b[39mfinally\u001b[39;00m:\n\u001b[1;32m     69\u001b[0m   \u001b[39mdel\u001b[39;00m filtered_tb\n",
      "File \u001b[0;32m/usr/local/lib/python3.9/site-packages/keras/engine/training.py:1323\u001b[0m, in \u001b[0;36mModel.fit\u001b[0;34m(self, x, y, batch_size, epochs, verbose, callbacks, validation_split, validation_data, shuffle, class_weight, sample_weight, initial_epoch, steps_per_epoch, validation_steps, validation_batch_size, validation_freq, max_queue_size, workers, use_multiprocessing)\u001b[0m\n\u001b[1;32m   1316\u001b[0m \u001b[39mif\u001b[39;00m validation_split:\n\u001b[1;32m   1317\u001b[0m   \u001b[39m# Create the validation data using the training data. Only supported for\u001b[39;00m\n\u001b[1;32m   1318\u001b[0m   \u001b[39m# `Tensor` and `NumPy` input.\u001b[39;00m\n\u001b[1;32m   1319\u001b[0m   (x, y, sample_weight), validation_data \u001b[39m=\u001b[39m (\n\u001b[1;32m   1320\u001b[0m       data_adapter\u001b[39m.\u001b[39mtrain_validation_split(\n\u001b[1;32m   1321\u001b[0m           (x, y, sample_weight), validation_split\u001b[39m=\u001b[39mvalidation_split))\n\u001b[0;32m-> 1323\u001b[0m \u001b[39mif\u001b[39;00m validation_data:\n\u001b[1;32m   1324\u001b[0m   val_x, val_y, val_sample_weight \u001b[39m=\u001b[39m (\n\u001b[1;32m   1325\u001b[0m       data_adapter\u001b[39m.\u001b[39munpack_x_y_sample_weight(validation_data))\n\u001b[1;32m   1327\u001b[0m \u001b[39mif\u001b[39;00m \u001b[39mself\u001b[39m\u001b[39m.\u001b[39mdistribute_strategy\u001b[39m.\u001b[39m_should_use_with_coordinator:  \u001b[39m# pylint: disable=protected-access\u001b[39;00m\n",
      "\u001b[0;31mValueError\u001b[0m: The truth value of an array with more than one element is ambiguous. Use a.any() or a.all()"
     ]
    }
   ],
   "source": [
    "for i in range(len(new_sets)):\n",
    "    temp_model = tf.keras.models.clone_model(model)\n",
    "    temp_model.compile(optimizer=tf.keras.optimizers.Adam(), loss = 'sparse_categorical_crossentropy', metrics=['accuracy'])\n",
    "    temp_model.fit(x=new_sets[i]['training'], y = new_sets[i]['labels'], validation_data=new_sets[i]['validation'])\n",
    "    temp_model.evaluate(x_train, y_train)\n",
    "    temp_model.evaluate(x_test, y_test)\n",
    "    print(\"Iteration - \"+str(i)+\"\\n\")"
   ]
  },
  {
   "cell_type": "code",
   "execution_count": null,
   "metadata": {},
   "outputs": [],
   "source": []
  }
 ],
 "metadata": {
  "kernelspec": {
   "display_name": "Python 3.9.13 64-bit",
   "language": "python",
   "name": "python3"
  },
  "language_info": {
   "codemirror_mode": {
    "name": "ipython",
    "version": 3
   },
   "file_extension": ".py",
   "mimetype": "text/x-python",
   "name": "python",
   "nbconvert_exporter": "python",
   "pygments_lexer": "ipython3",
   "version": "3.9.13"
  },
  "orig_nbformat": 4,
  "vscode": {
   "interpreter": {
    "hash": "aee8b7b246df8f9039afb4144a1f6fd8d2ca17a180786b69acc140d282b71a49"
   }
  }
 },
 "nbformat": 4,
 "nbformat_minor": 2
}
