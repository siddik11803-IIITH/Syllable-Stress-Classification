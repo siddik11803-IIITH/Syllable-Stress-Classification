{
 "cells": [
  {
   "cell_type": "code",
   "execution_count": 67,
   "metadata": {},
   "outputs": [],
   "source": [
    "import tensorflow as tf\n",
    "from tensorflow.keras.datasets import mnist\n",
    "import numpy as np\n",
    "import pandas as pd\n",
    "import pickle as pkl\n",
    "import matplotlib.pyplot as plot"
   ]
  },
  {
   "cell_type": "code",
   "execution_count": 68,
   "metadata": {},
   "outputs": [],
   "source": [
    "x_test = pkl.load(open('../code/GER_test.pkl' ,'rb'))\n",
    "y_test = pkl.load(open('../code/GER_test_y.pkl', 'rb'))\n",
    "x_train = pkl.load(open('../code/GER_train.pkl', 'rb'))\n",
    "y_train = pkl.load(open('../code/GER_train_y.pkl', 'rb'))"
   ]
  },
  {
   "cell_type": "code",
   "execution_count": 69,
   "metadata": {},
   "outputs": [
    {
     "data": {
      "text/plain": [
       "(6981, 19)"
      ]
     },
     "execution_count": 69,
     "metadata": {},
     "output_type": "execute_result"
    }
   ],
   "source": [
    "x_train.shape"
   ]
  },
  {
   "cell_type": "code",
   "execution_count": 70,
   "metadata": {},
   "outputs": [
    {
     "data": {
      "text/plain": [
       "(6248, 19)"
      ]
     },
     "execution_count": 70,
     "metadata": {},
     "output_type": "execute_result"
    }
   ],
   "source": [
    "x_test.shape"
   ]
  },
  {
   "cell_type": "code",
   "execution_count": 108,
   "metadata": {},
   "outputs": [
    {
     "name": "stdout",
     "output_type": "stream",
     "text": [
      "0 1396\n",
      "1396 2792\n",
      "2792 4188\n",
      "4188 5584\n",
      "5584 6980\n"
     ]
    }
   ],
   "source": [
    "def k_cross_validation(x_train, k):\n",
    "    n_samples = x_train.shape[0]\n",
    "    size = n_samples//k\n",
    "    return_value = []\n",
    "    ret_2 = []\n",
    "    for i in range(k):\n",
    "        return_value += [x_train[i*(size): (i+1)*size]]\n",
    "        ret_2 += [y_train[i*(size): (i+1)*size]]\n",
    "    return return_value, ret_2\n",
    "paritioned_set, paritioned_labels = k_cross_validation(x_train, 5)\n",
    "# integrity confirmed\n",
    "\n"
   ]
  },
  {
   "cell_type": "code",
   "execution_count": 72,
   "metadata": {},
   "outputs": [
    {
     "name": "stdout",
     "output_type": "stream",
     "text": [
      "(1396,)\n"
     ]
    },
    {
     "data": {
      "text/plain": [
       "(1396, 19)"
      ]
     },
     "execution_count": 72,
     "metadata": {},
     "output_type": "execute_result"
    }
   ],
   "source": [
    "print(paritioned_labels[1].shape)\n",
    "paritioned_set[1].shape"
   ]
  },
  {
   "cell_type": "code",
   "execution_count": 73,
   "metadata": {},
   "outputs": [],
   "source": [
    "def validation_pairs(paritioned_set):\n",
    "    n = len(paritioned_set)\n",
    "    new_train_sets = []\n",
    "    for i in range(n):\n",
    "        temp = dict()\n",
    "        temp['training'] = []\n",
    "        temp['labels']  = []\n",
    "        for j in range(n):\n",
    "            if(j == i):\n",
    "                temp['validation'] = paritioned_set[i]\n",
    "                temp['validation_labels'] = paritioned_labels[i]\n",
    "            else:\n",
    "                temp['training'] += paritioned_set[j]\n",
    "                temp['labels'] += paritioned_labels[j]\n",
    "        new_train_sets += [temp]\n",
    "    return new_train_sets\n",
    "new_sets = validation_pairs(paritioned_set)"
   ]
  },
  {
   "cell_type": "markdown",
   "metadata": {},
   "source": [
    "#### Converting into proper format"
   ]
  },
  {
   "cell_type": "code",
   "execution_count": 87,
   "metadata": {},
   "outputs": [],
   "source": [
    "for i in range(5):\n",
    "    new_sets[i]['training'] = np.array(new_sets[i]['training'])\n",
    "    new_sets[i]['validation'] = np.array(new_sets[i]['validation'])\n",
    "    new_sets[i]['labels'] = np.array(new_sets[i]['labels'])\n",
    "    new_sets[i]['validation_labels'] = np.array(new_sets[i]['validation_labels'])\n"
   ]
  },
  {
   "cell_type": "code",
   "execution_count": 88,
   "metadata": {},
   "outputs": [
    {
     "data": {
      "text/plain": [
       "list"
      ]
     },
     "execution_count": 88,
     "metadata": {},
     "output_type": "execute_result"
    }
   ],
   "source": [
    "type(new_sets)"
   ]
  },
  {
   "cell_type": "code",
   "execution_count": 89,
   "metadata": {},
   "outputs": [
    {
     "data": {
      "text/plain": [
       "dict"
      ]
     },
     "execution_count": 89,
     "metadata": {},
     "output_type": "execute_result"
    }
   ],
   "source": [
    "type(new_sets[0])"
   ]
  },
  {
   "cell_type": "code",
   "execution_count": 92,
   "metadata": {},
   "outputs": [
    {
     "data": {
      "text/plain": [
       "numpy.float64"
      ]
     },
     "execution_count": 92,
     "metadata": {},
     "output_type": "execute_result"
    }
   ],
   "source": [
    "type(new_sets[0]['training'][0][1])"
   ]
  },
  {
   "cell_type": "markdown",
   "metadata": {},
   "source": [
    "Comparing to MNIST"
   ]
  },
  {
   "cell_type": "code",
   "execution_count": 93,
   "metadata": {},
   "outputs": [],
   "source": [
    "(temp_x_train, temp_y_train), (temp_x_test, temp_y_test) = mnist.load_data()"
   ]
  },
  {
   "cell_type": "code",
   "execution_count": 98,
   "metadata": {},
   "outputs": [
    {
     "data": {
      "text/plain": [
       "numpy.uint8"
      ]
     },
     "execution_count": 98,
     "metadata": {},
     "output_type": "execute_result"
    }
   ],
   "source": [
    "type(temp_x_train[0][0][0])"
   ]
  },
  {
   "cell_type": "code",
   "execution_count": 99,
   "metadata": {},
   "outputs": [],
   "source": [
    "pkl.dump(new_sets, open('./c_validation.pkl', 'wb'))"
   ]
  },
  {
   "cell_type": "code",
   "execution_count": null,
   "metadata": {},
   "outputs": [],
   "source": []
  }
 ],
 "metadata": {
  "kernelspec": {
   "display_name": "Python 3.10.6 64-bit",
   "language": "python",
   "name": "python3"
  },
  "language_info": {
   "codemirror_mode": {
    "name": "ipython",
    "version": 3
   },
   "file_extension": ".py",
   "mimetype": "text/x-python",
   "name": "python",
   "nbconvert_exporter": "python",
   "pygments_lexer": "ipython3",
   "version": "3.10.6"
  },
  "orig_nbformat": 4,
  "vscode": {
   "interpreter": {
    "hash": "aee8b7b246df8f9039afb4144a1f6fd8d2ca17a180786b69acc140d282b71a49"
   }
  }
 },
 "nbformat": 4,
 "nbformat_minor": 2
}
