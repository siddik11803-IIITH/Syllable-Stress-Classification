{
 "cells": [
  {
   "cell_type": "code",
   "execution_count": 113,
   "metadata": {},
   "outputs": [],
   "source": [
    "import tensorflow as tf\n",
    "from tensorflow.keras.datasets import mnist\n",
    "import numpy as np\n",
    "import pandas as pd\n",
    "import pickle as pkl\n",
    "import matplotlib.pyplot as plot"
   ]
  },
  {
   "cell_type": "markdown",
   "metadata": {},
   "source": [
    "## Model Development"
   ]
  },
  {
   "cell_type": "code",
   "execution_count": 114,
   "metadata": {},
   "outputs": [],
   "source": [
    "model = tf.keras.models.Sequential()\n",
    "model.add(tf.keras.layers.Flatten(input_shape = [19]))\n",
    "model.add(tf.keras.layers.Dense(100, activation='relu'))\n",
    "model.add(tf.keras.layers.Dense(6, activation='relu'))\n",
    "model.add(tf.keras.layers.Dense(2, activation=tf.nn.softmax))\n",
    "model.compile(optimizer=tf.keras.optimizers.Adam(), loss = 'sparse_categorical_crossentropy', metrics=['accuracy'])\n"
   ]
  },
  {
   "cell_type": "code",
   "execution_count": 115,
   "metadata": {},
   "outputs": [],
   "source": [
    "x_train = pkl.load(open('./GER_test.pkl' ,'rb'))\n",
    "y_train = pkl.load(open('./GER_test_y.pkl', 'rb'))\n",
    "x_test = pkl.load(open('./GER_train.pkl', 'rb'))\n",
    "y_test = pkl.load(open('./GER_train_y.pkl', 'rb'))"
   ]
  },
  {
   "cell_type": "code",
   "execution_count": 116,
   "metadata": {},
   "outputs": [
    {
     "name": "stdout",
     "output_type": "stream",
     "text": [
      "Epoch 1/20\n",
      "196/196 [==============================] - 0s 808us/step - loss: 1.1991 - accuracy: 0.4667\n",
      "Epoch 2/20\n",
      "196/196 [==============================] - 0s 906us/step - loss: 0.7279 - accuracy: 0.5373\n",
      "Epoch 3/20\n",
      "196/196 [==============================] - 0s 900us/step - loss: 0.6147 - accuracy: 0.6676\n",
      "Epoch 4/20\n",
      "196/196 [==============================] - 0s 848us/step - loss: 0.5547 - accuracy: 0.7311\n",
      "Epoch 5/20\n",
      "196/196 [==============================] - 0s 854us/step - loss: 0.5282 - accuracy: 0.7482\n",
      "Epoch 6/20\n",
      "196/196 [==============================] - 0s 835us/step - loss: 0.5162 - accuracy: 0.7521\n",
      "Epoch 7/20\n",
      "196/196 [==============================] - 0s 963us/step - loss: 0.5084 - accuracy: 0.7538\n",
      "Epoch 8/20\n",
      "196/196 [==============================] - 0s 1ms/step - loss: 0.5024 - accuracy: 0.7598\n",
      "Epoch 9/20\n",
      "196/196 [==============================] - 0s 780us/step - loss: 0.4973 - accuracy: 0.7658\n",
      "Epoch 10/20\n",
      "196/196 [==============================] - 0s 762us/step - loss: 0.4936 - accuracy: 0.7678\n",
      "Epoch 11/20\n",
      "196/196 [==============================] - 0s 610us/step - loss: 0.4889 - accuracy: 0.7750\n",
      "Epoch 12/20\n",
      "196/196 [==============================] - 0s 625us/step - loss: 0.4850 - accuracy: 0.7756\n",
      "Epoch 13/20\n",
      "196/196 [==============================] - 0s 624us/step - loss: 0.4817 - accuracy: 0.7782\n",
      "Epoch 14/20\n",
      "196/196 [==============================] - 0s 600us/step - loss: 0.4791 - accuracy: 0.7794\n",
      "Epoch 15/20\n",
      "196/196 [==============================] - 0s 630us/step - loss: 0.4763 - accuracy: 0.7822\n",
      "Epoch 16/20\n",
      "196/196 [==============================] - 0s 618us/step - loss: 0.4742 - accuracy: 0.7825\n",
      "Epoch 17/20\n",
      "196/196 [==============================] - 0s 626us/step - loss: 0.4712 - accuracy: 0.7876\n",
      "Epoch 18/20\n",
      "196/196 [==============================] - 0s 636us/step - loss: 0.4698 - accuracy: 0.7863\n",
      "Epoch 19/20\n",
      "196/196 [==============================] - 0s 600us/step - loss: 0.4674 - accuracy: 0.7891\n",
      "Epoch 20/20\n",
      "196/196 [==============================] - 0s 627us/step - loss: 0.4649 - accuracy: 0.7884\n"
     ]
    },
    {
     "data": {
      "text/plain": [
       "<keras.callbacks.History at 0x166956d90>"
      ]
     },
     "execution_count": 116,
     "metadata": {},
     "output_type": "execute_result"
    }
   ],
   "source": [
    "model.fit(x_train, y_train, epochs=20)"
   ]
  },
  {
   "cell_type": "code",
   "execution_count": 117,
   "metadata": {},
   "outputs": [
    {
     "name": "stdout",
     "output_type": "stream",
     "text": [
      "196/196 [==============================] - 0s 545us/step - loss: 0.4662 - accuracy: 0.7868\n"
     ]
    },
    {
     "data": {
      "text/plain": [
       "[0.4661502242088318, 0.7868117690086365]"
      ]
     },
     "execution_count": 117,
     "metadata": {},
     "output_type": "execute_result"
    }
   ],
   "source": [
    "model.evaluate(x_train, y_train)"
   ]
  },
  {
   "cell_type": "code",
   "execution_count": 118,
   "metadata": {},
   "outputs": [
    {
     "name": "stdout",
     "output_type": "stream",
     "text": [
      "219/219 [==============================] - 0s 691us/step - loss: 0.4775 - accuracy: 0.7737\n"
     ]
    },
    {
     "data": {
      "text/plain": [
       "[0.4774683117866516, 0.7736713886260986]"
      ]
     },
     "execution_count": 118,
     "metadata": {},
     "output_type": "execute_result"
    }
   ],
   "source": [
    "model.evaluate(x_test, y_test)"
   ]
  },
  {
   "cell_type": "code",
   "execution_count": 119,
   "metadata": {},
   "outputs": [
    {
     "data": {
      "text/plain": [
       "(6248, 19)"
      ]
     },
     "execution_count": 119,
     "metadata": {},
     "output_type": "execute_result"
    }
   ],
   "source": [
    "x_train.shape"
   ]
  },
  {
   "cell_type": "code",
   "execution_count": 120,
   "metadata": {},
   "outputs": [
    {
     "data": {
      "text/plain": [
       "(6981, 19)"
      ]
     },
     "execution_count": 120,
     "metadata": {},
     "output_type": "execute_result"
    }
   ],
   "source": [
    "x_test.shape"
   ]
  },
  {
   "cell_type": "code",
   "execution_count": null,
   "metadata": {},
   "outputs": [],
   "source": []
  }
 ],
 "metadata": {
  "kernelspec": {
   "display_name": "Python 3.9.13 64-bit",
   "language": "python",
   "name": "python3"
  },
  "language_info": {
   "codemirror_mode": {
    "name": "ipython",
    "version": 3
   },
   "file_extension": ".py",
   "mimetype": "text/x-python",
   "name": "python",
   "nbconvert_exporter": "python",
   "pygments_lexer": "ipython3",
   "version": "3.9.13"
  },
  "orig_nbformat": 4,
  "vscode": {
   "interpreter": {
    "hash": "aee8b7b246df8f9039afb4144a1f6fd8d2ca17a180786b69acc140d282b71a49"
   }
  }
 },
 "nbformat": 4,
 "nbformat_minor": 2
}
